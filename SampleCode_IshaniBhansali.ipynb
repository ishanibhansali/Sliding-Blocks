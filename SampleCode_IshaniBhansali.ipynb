{
 "cells": [
  {
   "cell_type": "code",
   "execution_count": null,
   "metadata": {},
   "outputs": [],
   "source": [
    "Using A* Search Algorithm to find the minimum number of moves required to solve a sliding blocks puzzle.\n",
    "\n",
    "Example start board = [[1,2,3]\n",
    "                       [4,0,5]]\n",
    "Solved board = [[1,2,3]\n",
    "                [4,5,0]]\n",
    "\n",
    "A move comprises of swapping zero with any of its neighbors.\n",
    "\n",
    "Example move = [[1,2,3]      ->    [[1,2,3]\n",
    "                [4,0,5]]            [4,5,0]]\n",
    "Illegal move = [[1,2,3]      ->    [[1,2,0]\n",
    "                [0,4,5]]            [3,4,5]]\n",
    "\n",
    "Minimum number of moves required to solve the example start board is 1.\n",
    "\n",
    "A* Search makes use of admissible heuristic to find the best path while opimizing the amount of work done."
   ]
  },
  {
   "cell_type": "code",
   "execution_count": 7,
   "metadata": {},
   "outputs": [
    {
     "name": "stdout",
     "output_type": "stream",
     "text": [
      "Minimum number of moves: 22\n"
     ]
    }
   ],
   "source": [
    "import heapq\n",
    "class Solution():\n",
    "    def slidingPuzzle(self, board):\n",
    "        M, N = len(board), len(board[0])\n",
    "        given = tuple(board[i][j] for i in range(M) for j in range(N))\n",
    "        solved = tuple(list(range(1,M*N)) + [0])\n",
    "        moves = {'left' : -1, 'right' : 1, 'up' : -N , 'down' : N}\n",
    "        minHeap = [(0, 0, given, given.index(0))]\n",
    "        score = {given:0}\n",
    "\n",
    "        \n",
    "        def move(board, index, move) -> tuple:\n",
    "            neighbor = index + move\n",
    "            # to make sure the move is legal:\n",
    "            if abs(int(index / N) - int(neighbor / N)) + abs(index % N - neighbor % N) != 1: \n",
    "                return None\n",
    "            if 0 <= neighbor < M * N:\n",
    "                boardList = list(board)\n",
    "                boardList[index], boardList[neighbor] = boardList[neighbor], boardList[index]\n",
    "                boardTuple = tuple(boardList)\n",
    "            else:\n",
    "                return None\n",
    "            return boardTuple\n",
    "        \n",
    "\n",
    "        expected = {(N*r+c+1) % (M*N) : (r, c)\n",
    "                    for r in range(M) for c in range(N)}\n",
    "        # Using Manhattan distance as heuristic for A* Search\n",
    "        def heuristic(board):\n",
    "            ans = 0\n",
    "            for i in range(M):\n",
    "                for j in range(N):\n",
    "                    val = board[i*N+j]\n",
    "                    if val == 0: continue\n",
    "                    er, ec = expected[val]\n",
    "                    ans += abs(i - er) + abs(j - ec)\n",
    "            return ans\n",
    "\n",
    "        \n",
    "        while minHeap:\n",
    "            f, g, board, index = heapq.heappop(minHeap)\n",
    "\n",
    "            if board == solved:\n",
    "                return g\n",
    "\n",
    "            if f > score[board]:\n",
    "                continue\n",
    "\n",
    "            for move_offset in moves.keys():\n",
    "                boardNew = move(board, index, moves[move_offset])\n",
    "                if boardNew != None:\n",
    "                    scoreNew = g + 1 + heuristic(boardNew)\n",
    "                    if scoreNew < score.get(boardNew, float('inf')):\n",
    "                        score[boardNew] = scoreNew\n",
    "                        heapq.heappush(minHeap, (scoreNew, g + 1, boardNew, boardNew.index(0)))\n",
    "                        \n",
    "                        \n",
    "                        \n",
    "        return -1\n",
    "\n",
    "    \n",
    "#Example Case:\n",
    "board = [[7,8,3],[4,0,5],[1,2,6]]\n",
    "solver = Solution()\n",
    "numMoves = solver.slidingPuzzle(board)\n",
    "print('Minimum number of moves: '+ str(numMoves))"
   ]
  }
 ],
 "metadata": {
  "kernelspec": {
   "display_name": "Python 3",
   "language": "python",
   "name": "python3"
  },
  "language_info": {
   "codemirror_mode": {
    "name": "ipython",
    "version": 3
   },
   "file_extension": ".py",
   "mimetype": "text/x-python",
   "name": "python",
   "nbconvert_exporter": "python",
   "pygments_lexer": "ipython3",
   "version": "3.7.4"
  }
 },
 "nbformat": 4,
 "nbformat_minor": 2
}
